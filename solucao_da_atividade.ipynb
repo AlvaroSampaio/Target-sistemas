{
 "cells": [
  {
   "cell_type": "markdown",
   "metadata": {},
   "source": [
    "# Desafio target\n",
    "O presente notebook guarda a resolução da atividade de teste para estágio oferecido pela Targer Sistemas"
   ]
  },
  {
   "cell_type": "markdown",
   "metadata": {},
   "source": [
    "### 1) Dado a sequência de Fibonacci, onde se inicia por 0 e 1 e o próximo valor sempre será a soma dos 2 valores anteriores (exemplo: 0, 1, 1, 2, 3, 5, 8, 13, 21, 34...), escreva um programa na linguagem que desejar onde, informado um número, ele calcule a sequência de Fibonacci e retorne uma mensagem avisando se o número informado pertence ou não a sequência."
   ]
  },
  {
   "cell_type": "code",
   "execution_count": 2,
   "metadata": {},
   "outputs": [],
   "source": [
    "def fibonacci(n):\n",
    "    \"\"\"\n",
    "    Gera a sequência de Fibonacci até o n-ésimo termo.\n",
    "\n",
    "    A sequência de Fibonacci é uma série de números onde cada número é a soma dos dois números anteriores,\n",
    "    começando com 0 e 1. Esta função retorna os primeiros n números da sequência.\n",
    "\n",
    "    Parâmetros:\n",
    "    n (int): O número de termos da sequência de Fibonacci a serem gerados.\n",
    "\n",
    "    Retorna:\n",
    "    list: Uma lista contendo os primeiros n termos da sequência de Fibonacci.\n",
    "    \"\"\"\n",
    "    sequence = [0, 1]  # Os primeiros dois números da sequência\n",
    "    while len(sequence) < n:\n",
    "        next_value = sequence[-1] + sequence[-2]  # Soma dos dois últimos números\n",
    "        sequence.append(next_value)  # Adiciona o próximo número à sequência\n",
    "    return sequence[:n]  # Retorna os primeiros n números da sequência"
   ]
  },
  {
   "cell_type": "markdown",
   "metadata": {},
   "source": [
    "Execute a o código e escolha um número para saber se ele pertence a sequência de Fibonacci"
   ]
  },
  {
   "cell_type": "code",
   "execution_count": 14,
   "metadata": {},
   "outputs": [
    {
     "name": "stdout",
     "output_type": "stream",
     "text": [
      "-5 não pertence à sequência de Fibonacci.\n"
     ]
    }
   ],
   "source": [
    "try:\n",
    "    number = int(input('insira um número inteiro: '))\n",
    "    fibonacci(10*number)\n",
    "    if number in fibonacci(10*number):\n",
    "        print(f'{number} pertence à sequência de Fibonacci.')\n",
    "    else:\n",
    "        print(f'{number} não pertence à sequência de Fibonacci.')\n",
    "except TypeError as:\n",
    "    print('Por favor, insira um número inteiro.')"
   ]
  },
  {
   "cell_type": "markdown",
   "metadata": {},
   "source": [
    "### 2)Escreva um programa que verifique, em uma string, a existência da letra ‘a’, seja maiúscula ou minúscula, além de informar a quantidade de vezes em que ela ocorre."
   ]
  },
  {
   "cell_type": "code",
   "execution_count": null,
   "metadata": {},
   "outputs": [],
   "source": []
  }
 ],
 "metadata": {
  "kernelspec": {
   "display_name": "Python 3",
   "language": "python",
   "name": "python3"
  },
  "language_info": {
   "codemirror_mode": {
    "name": "ipython",
    "version": 3
   },
   "file_extension": ".py",
   "mimetype": "text/x-python",
   "name": "python",
   "nbconvert_exporter": "python",
   "pygments_lexer": "ipython3",
   "version": "3.12.3"
  }
 },
 "nbformat": 4,
 "nbformat_minor": 2
}
